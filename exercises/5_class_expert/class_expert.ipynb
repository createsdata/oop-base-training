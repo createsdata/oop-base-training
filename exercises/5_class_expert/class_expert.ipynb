{
 "cells": [
  {
   "cell_type": "markdown",
   "metadata": {},
   "source": [
    "### Opdracht 5 - Simulatie Banksysteem\n",
    "Je weet nu de belangrijkste basisprincipes om Object Georiënteerd te kunnen programmeren. Goed gedaan! Bij de laatste opdracht komt al het geleerde samen in een grote opdracht.\n",
    "\n",
    "Je gaat een systeem bouwen voor een bank waarin je verschillende soorten rekeningen kunt beheren, zoals spaarrekeningen en betaalrekeningen. Het systeem moet de mogelijkheid hebben om saldo op te vragen, geld in te voeren, geld op te nemen, en rente toe te passen op spaarrekeningen.\n",
    "\n",
    "1. Maak een abstracte klasse `BankAccount` die gemeenschappelijke eigenschappen heeft voor elke rekening, zoals het saldo. Voeg methoden toe om geld in te voeren, op te nemen en het saldo op te vragen.\n",
    "\n",
    "2. Maak subklassen voor verschillende types rekeningen:\n",
    "`SavingAccount` (Spaarrekening): Met een methode om rente te berekenen.\n",
    "`CheckingAccount` (Betaalrekening): Met de mogelijkheid om zonder rente te werken.\n",
    "\n",
    "3. Gebruik encapsulatie om te zorgen dat het saldo van een rekening niet direct kan worden aangepast, maar alleen via de methoden.\n",
    "\n",
    "4. Voeg extra functionaliteit toe zoals het limiet voor opnames op de betaalrekening of het bijhouden van de rente op een spaarrekening.\n",
    "\n",
    "5. Demonstreren van polymorfisme: Gebruik polymorfisme om verschillende rekeningen in een lijst te beheren en dezelfde methoden aan te roepen (zoals het saldo opvragen of rente berekenen).\n",
    "\n",
    "Je kan je code testen door het voorbeeld wat gegeven is. Uiteraard mag je alles aanpassen naar hoe jij wilt. Je hebt als programmeur altijd zelf de touwtjes in handen en er zijn vele wegen die naar Rome leiden."
   ]
  },
  {
   "cell_type": "markdown",
   "metadata": {},
   "source": [
    "### Code"
   ]
  },
  {
   "cell_type": "code",
   "execution_count": null,
   "metadata": {},
   "outputs": [],
   "source": [
    "from abc import ABC, abstractmethod\n",
    "\n",
    "#TODO: code here"
   ]
  },
  {
   "cell_type": "code",
   "execution_count": null,
   "metadata": {},
   "outputs": [],
   "source": [
    "accounts = [\n",
    "        SavingAccount(\"Alice\", 1000.0, 0.03),\n",
    "        CheckingAccount(\"Bob\", 500.0, 150.0),\n",
    "        SavingAccount(\"Charlie\", 2000.0, 0.02)\n",
    "]\n",
    "\n",
    "# Laat de gebruikers de acties zien\n",
    "for account in accounts:\n",
    "    print(f\"\\n{account.account_type()} - {account._account_holder}'s balance: {account.get_balance()}\")\n",
    "    account.deposit(500)\n",
    "    account.withdraw(200)\n",
    "\n",
    "    # Spaarrekening rente toepassen\n",
    "    if isinstance(account, SavingAccount):\n",
    "        account.apply_interest()\n",
    "\n",
    "print(\"\\nAll actions completed.\")"
   ]
  }
 ],
 "metadata": {
  "language_info": {
   "name": "python"
  }
 },
 "nbformat": 4,
 "nbformat_minor": 2
}
