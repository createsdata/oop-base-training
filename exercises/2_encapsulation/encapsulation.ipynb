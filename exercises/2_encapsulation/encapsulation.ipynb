{
 "cells": [
  {
   "cell_type": "markdown",
   "metadata": {},
   "source": [
    "### Opdracht 2 - Encapsulatie\n",
    "In deze oefening gaan je een `BankAccount` klasse maken die encapsulatie toepast. Encapsulatie is een van de kernconcepten van object-georiënteerd programmeren (OOP) en houdt in dat de interne toestand van een object wordt verborgen en alleen toegankelijk is via goed gedefinieerde methoden. Deze oefening helpt je te begrijpen hoe je encapsulatie kunt gebruiken om de toegang tot en de manipulatie van data in een klasse te beheersen.\n",
    "\n",
    "1. Maak een `BankAccount` klasse:\n",
    "De klasse moet het volgende privé-attribuut bevatten:\n",
    "`__balance` (een privé attribuut mag niet direct toegankelijk zijn van buiten de klasse en is te herkennen door een dubbele underscore). Daarnaast moet ik mogelijk zijn om een initiële waarde mee te geven voor het banksalso\n",
    "\n",
    "2. Definieer methoden om interactie met het banksaldo mogelijk te maken:\n",
    "- Een `deposit` methode om geld op de rekening te storten.\n",
    "- Een `withdraw` methode om geld van de rekening op te nemen, waarbij wordt gecontroleerd of het op te nemen bedrag niet groter is dan het saldo.\n",
    "- Een `get_balance` methode om het huidige saldo op te vragen.\n",
    "\n",
    "3. Test de werking van je class met de regels code die al zijn voorgegeven. Probeer in ieder geval na te denken over de foutafhandeling. Wat gebeurt er bijvoorbeeld als je meer geld probeert op te nemen dan beschikbaar in het account?\n",
    " \n",
    "4. Bonus: mocht je op tijd klaar zijn. Probeer een methode `transfer` te maken die een bedrag en een tegenrekening meekrijgt als parameters. Je moet in dat geval dus twee objecten van `BankAccount` hebben om deze methode te kunnen testen."
   ]
  },
  {
   "cell_type": "markdown",
   "metadata": {},
   "source": [
    "### Code"
   ]
  },
  {
   "cell_type": "code",
   "execution_count": null,
   "metadata": {},
   "outputs": [],
   "source": [
    "class BankAccount:\n",
    "    #TODO: code here"
   ]
  },
  {
   "cell_type": "code",
   "execution_count": null,
   "metadata": {},
   "outputs": [],
   "source": [
    "# Test de BankAccount klasse\n",
    "account = BankAccount(\"Alice\", 1000)  # Maak een account met een een naam en beginbalans van 1000\n",
    "\n",
    "# Toegang tot de rekening en manipuleer het saldo via de methoden\n",
    "account.deposit(500)  # Stort 500 eenheden\n",
    "account.withdraw(200)  # Neem 200 eenheden op\n",
    "account.withdraw(1500)  # Probeer meer op te nemen dan het saldo\n",
    "print(account.get_balance())  # Probeer het banksalso op te halen\n",
    "\n",
    "# # Bonus\n",
    "# account_other = BankAccount(\"Bob\", 900)\n",
    "# account.transfer(200, account_other)\n",
    "# print(account_other.get_balance())\n",
    "# print(account.get_balance())"
   ]
  }
 ],
 "metadata": {
  "kernelspec": {
   "display_name": "base",
   "language": "python",
   "name": "python3"
  },
  "language_info": {
   "codemirror_mode": {
    "name": "ipython",
    "version": 3
   },
   "file_extension": ".py",
   "mimetype": "text/x-python",
   "name": "python",
   "nbconvert_exporter": "python",
   "pygments_lexer": "ipython3",
   "version": "3.11.7"
  }
 },
 "nbformat": 4,
 "nbformat_minor": 2
}
