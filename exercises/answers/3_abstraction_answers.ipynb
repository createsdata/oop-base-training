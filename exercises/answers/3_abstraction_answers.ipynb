{
 "cells": [
  {
   "cell_type": "markdown",
   "metadata": {},
   "source": [
    "### Opdracht 3 - Abstractie\n",
    "Abstractie is een van de kernconcepten van object-georiënteerd programmeren (OOP). Het houdt in dat de complexiteit van de implementatie wordt verborgen, zodat je je kunt concentreren op de essentie van wat een object doet in plaats van hoe het dit doet. In deze oefening gaan we abstracter werken met een `Vehicle` klasse en laten we zien hoe abstractie de code kan vereenvoudigen en uitbreidbaar maakt.\n",
    "\n",
    "1. Maak een abstracte klasse `Vehicle` met abstracte methoden zoals `start()` en `stop()`. Hoe je dit kan doen, lees je bijvoorbeeld hier: https://www.geeksforgeeks.org/abstract-classes-in-python/\n",
    "\n",
    "2. Maak specifieke klassen zoals `Car` (Auto) en `Bicycle` (Fiets) die deze methoden op hun eigen manier implementeren.\n",
    "\n",
    "3. Demonstreren van abstractie door objecten van de specifieke klassen te maken en met hen te communiceren zonder je zorgen te maken over de interne implementatie. De code hiervoor is al voor je geschreven.\n",
    "\n",
    "4. Kijk wat er gebeurt als je bijvoorbeeld de `start()` methode weghaalt uit `Bicycle`. Werkt je code nog steeds?\n",
    "\n",
    "5. Bonus: Voeg een nieuw soort voertuig als subklasse toe aan je code. Zoals je ziet hoef je geen bestaande klasses aan te passen om de nieuwe code werkend te krijgen."
   ]
  },
  {
   "cell_type": "markdown",
   "metadata": {},
   "source": [
    "### Code"
   ]
  },
  {
   "cell_type": "code",
   "execution_count": null,
   "metadata": {},
   "outputs": [],
   "source": [
    "from abc import ABC, abstractmethod\n",
    "\n",
    "# Stap 1: Maak een abstracte klasse\n",
    "class Vehicle(ABC):\n",
    "    @abstractmethod\n",
    "    def start(self):\n",
    "        pass\n",
    "\n",
    "    @abstractmethod\n",
    "    def stop(self):\n",
    "        pass\n",
    "\n",
    "# Stap 2: Maak specifieke klassen die de abstracte methoden implementeren\n",
    "class Car(Vehicle):\n",
    "    def start(self):\n",
    "        print(\"The car is starting with an ignition key.\")\n",
    "    \n",
    "    def stop(self):\n",
    "        print(\"The car is stopping using the brake pedal.\")\n",
    "\n",
    "class Bicycle(Vehicle):\n",
    "    def start(self):\n",
    "        print(\"The bicycle is starting by pedaling.\")\n",
    "    \n",
    "    def stop(self):\n",
    "        print(\"The bicycle is stopping by applying the brake lever.\")\n",
    "\n",
    "# Stap 3: Gebruik de klassen\n",
    "def test_vehicle(vehicle: Vehicle):\n",
    "    vehicle.start()\n",
    "    vehicle.stop()\n",
    "\n",
    "# Maak instanties van de specifieke klassen\n",
    "car = Car()\n",
    "bicycle = Bicycle()\n",
    "\n",
    "# Test de voertuigen met de abstracte methoden\n",
    "print(\"Testing Car:\")\n",
    "test_vehicle(car)\n",
    "\n",
    "print(\"\\nTesting Bicycle:\")\n",
    "test_vehicle(bicycle)"
   ]
  }
 ],
 "metadata": {
  "kernelspec": {
   "display_name": "base",
   "language": "python",
   "name": "python3"
  },
  "language_info": {
   "codemirror_mode": {
    "name": "ipython",
    "version": 3
   },
   "file_extension": ".py",
   "mimetype": "text/x-python",
   "name": "python",
   "nbconvert_exporter": "python",
   "pygments_lexer": "ipython3",
   "version": "3.11.7"
  }
 },
 "nbformat": 4,
 "nbformat_minor": 2
}
