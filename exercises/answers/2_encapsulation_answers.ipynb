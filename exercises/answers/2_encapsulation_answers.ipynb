{
 "cells": [
  {
   "cell_type": "markdown",
   "metadata": {},
   "source": [
    "### Opdracht 2 - Encapsulatie\n",
    "In deze oefening gaan je een `BankAccount` klasse maken die encapsulatie toepast. Encapsulatie is een van de kernconcepten van object-georiënteerd programmeren (OOP) en houdt in dat de interne toestand van een object wordt verborgen en alleen toegankelijk is via goed gedefinieerde methoden. Deze oefening helpt je te begrijpen hoe je encapsulatie kunt gebruiken om de toegang tot en de manipulatie van data in een klasse te beheersen.\n",
    "\n",
    "1. Maak een `BankAccount` klasse:\n",
    "De klasse moet het volgende privé-attribuut bevatten:\n",
    "`__balance` (een privé attribuut mag niet direct toegankelijk zijn van buiten de klasse en is te herkennen door een dubbele underscore). Daarnaast moet ik mogelijk zijn om een initiële waarde mee te geven voor het banksalso\n",
    "\n",
    "2. Definieer methoden om interactie met het banksaldo mogelijk te maken:\n",
    "- Een `deposit` methode om geld op de rekening te storten.\n",
    "- Een `withdraw` methode om geld van de rekening op te nemen, waarbij wordt gecontroleerd of het op te nemen bedrag niet groter is dan het saldo.\n",
    "- Een `get_balance` methode om het huidige saldo op te vragen.\n",
    "\n",
    "3. Test de werking van je class met de regels code die al zijn voorgegeven. Probeer in ieder geval na te denken over de foutafhandeling. Wat gebeurt er bijvoorbeeld als je meer geld probeert op te nemen dan beschikbaar in het account?\n",
    " \n",
    "4. Bonus: mocht je op tijd klaar zijn. Probeer een methode `transfer` te maken die een bedrag en een tegenrekening meekrijgt als parameters. Je moet in dat geval dus twee objecten van `BankAccount` hebben om deze methode te kunnen testen."
   ]
  },
  {
   "cell_type": "markdown",
   "metadata": {},
   "source": [
    "### Code"
   ]
  },
  {
   "cell_type": "code",
   "execution_count": null,
   "metadata": {},
   "outputs": [],
   "source": [
    "class BankAccount:\n",
    "    def __init__(self, owner, initial_balance=0):\n",
    "        self.owner = owner\n",
    "        # __balance is privé en kan niet direct van buiten de klasse worden benaderd\n",
    "        self.__balance = initial_balance\n",
    "\n",
    "    # Methode om geld op de rekening te storten\n",
    "    def deposit(self, amount):\n",
    "        if amount > 0:\n",
    "            self.__balance += amount\n",
    "            print(f\"Deposited {amount} units.\")\n",
    "        else:\n",
    "            print(\"Deposit amount must be positive.\")\n",
    "\n",
    "    # Methode om geld van de rekening op te nemen\n",
    "    def withdraw(self, amount):\n",
    "        if amount > 0 and amount <= self.__balance:\n",
    "            self.__balance -= amount\n",
    "            print(f\"Withdrew {amount} units.\")\n",
    "        elif amount > self.__balance:\n",
    "            print(\"Insufficient funds!\")\n",
    "        else:\n",
    "            print(\"Withdrawal amount must be positive.\")\n",
    "\n",
    "    # Getter methode voor het saldo (encapsulatie in actie)\n",
    "    def get_balance(self):\n",
    "        return self.__balance\n",
    "\n",
    "    # Methode om geld over te maken naar een andere rekening\n",
    "    def transfer(self, amount, bank_account):\n",
    "        self.withdraw(amount)\n",
    "        bank_account.deposit(amount)\n",
    "\n",
    "\n",
    "# Test de BankAccount klasse\n",
    "account = BankAccount(\"Alice\", 1000)  # Maak een account met een een naam en beginbalans van 1000\n",
    "\n",
    "# Toegang tot de rekening en manipuleer het saldo via de methoden\n",
    "account.deposit(500)  # Stort 500 eenheden\n",
    "account.withdraw(200)  # Neem 200 eenheden op\n",
    "account.withdraw(1500)  # Probeer meer op te nemen dan het saldo\n",
    "print(account.get_balance())  # Probeer het banksalso op te halen\n",
    "\n",
    "# # Bonus\n",
    "# account_other = BankAccount(\"Bob\", 900)\n",
    "# account.transfer(200, account_other)\n",
    "# print(account_other.get_balance())\n",
    "# print(account.get_balance())"
   ]
  }
 ],
 "metadata": {
  "kernelspec": {
   "display_name": "base",
   "language": "python",
   "name": "python3"
  },
  "language_info": {
   "codemirror_mode": {
    "name": "ipython",
    "version": 3
   },
   "file_extension": ".py",
   "mimetype": "text/x-python",
   "name": "python",
   "nbconvert_exporter": "python",
   "pygments_lexer": "ipython3",
   "version": "3.11.7"
  }
 },
 "nbformat": 4,
 "nbformat_minor": 2
}
