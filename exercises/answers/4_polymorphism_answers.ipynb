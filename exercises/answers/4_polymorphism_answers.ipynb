{
 "cells": [
  {
   "cell_type": "markdown",
   "metadata": {},
   "source": [
    "### Opdracht 4 - Polymorfisme\n",
    "In deze oefening gaan we polymorfisme demonstreren door een klasse Animal te maken, die een algemene make_sound() methode bevat. Vervolgens zullen we subklassen zoals Dog en Cat creëren, die de make_sound() methode op hun eigen manier implementeren (overriden).\n",
    "\n",
    "1. Maak een basisklasse `Animal` met een standaardimplementatie van de methode `make_sound()`.\n",
    "\n",
    "2. Maak subklassen zoals `Dog` (Hond) en `Cat` (Kat), die de make_sound() methode overschrijven.\n",
    "\n",
    "3. Gebruik polymorfisme door objecten van verschillende subklassen te behandelen als objecten van de superklasse en de specifieke implementaties van make_sound() op te roepen. Zie voorbeeld code."
   ]
  },
  {
   "cell_type": "markdown",
   "metadata": {},
   "source": [
    "### Code"
   ]
  },
  {
   "cell_type": "code",
   "execution_count": null,
   "metadata": {},
   "outputs": [],
   "source": [
    "# Stap 1: Maak een basisklasse Animal\n",
    "class Animal:\n",
    "    def make_sound(self):\n",
    "        print(\"Some generic animal sound\")\n",
    "\n",
    "# Stap 2: Maak subklassen die de make_sound methode overschrijven\n",
    "class Dog(Animal):\n",
    "    def make_sound(self):\n",
    "        print(\"Woof! Woof!\")\n",
    "\n",
    "class Cat(Animal):\n",
    "    def make_sound(self):\n",
    "        print(\"Meow! Meow!\")"
   ]
  },
  {
   "cell_type": "code",
   "execution_count": null,
   "metadata": {},
   "outputs": [],
   "source": [
    "# Stap 3: Gebruik polymorfisme om verschillende dieren te behandelen\n",
    "def make_all_sounds(animals):\n",
    "    for animal in animals:\n",
    "        animal.make_sound()\n",
    "\n",
    "# Maak een lijst van dieren (Dog en Cat)\n",
    "animals = [Dog(), Cat()]\n",
    "\n",
    "# Roep de make_sound methode aan voor elk dier in de lijst\n",
    "make_all_sounds(animals)"
   ]
  }
 ],
 "metadata": {
  "language_info": {
   "name": "python"
  }
 },
 "nbformat": 4,
 "nbformat_minor": 2
}
