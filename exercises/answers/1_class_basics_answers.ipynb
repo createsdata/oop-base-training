{
 "cells": [
  {
   "cell_type": "markdown",
   "metadata": {},
   "source": [
    "### Opdracht 1 - Class Basics\n",
    "In de opdracht, ga je je eerste Python class schrijven. We gaan proberen om een medewerker bij Caesar/Creates te modelleren.\n",
    "\n",
    "1. Maak een klasse \"Employee\". De klasse moet de volgende attributen bevatten:\n",
    "- `name` (string)\n",
    "- `age` (int)\n",
    "- `gender` (string)\n",
    "- `role` (string)\n",
    "\n",
    "2. Maak een constructor (`__init__` methode) die de naam, leeftijd en geslacht van een persoon als argumenten accepteert en deze instelt als attributen van het object.\n",
    "\n",
    "3. Maak een methode `show_information` die de naam, leeftijd, geslacht en functie van de persoon afdrukt in een leesbare zin.\n",
    "\n",
    "4. Maak een instantie van de \"Employee\" klasse. Stel een medewerker in met naam, leeftijd, geslacht en functie en roep de `show_information` methode aan om de gegevens te tonen.\n",
    "\n",
    "5. Voeg een `__str__` methode toe aan de klasse die een leesbare tekst teruggeeft en kijk wat er gebeurt als je met de `print` functie het object probeert te printen."
   ]
  },
  {
   "cell_type": "markdown",
   "metadata": {},
   "source": [
    "### Code"
   ]
  },
  {
   "cell_type": "code",
   "execution_count": 2,
   "metadata": {},
   "outputs": [],
   "source": [
    "class Employee:\n",
    "    \n",
    "    def __init__(self, \n",
    "                 name, \n",
    "                 age, \n",
    "                 gender,\n",
    "                 role):\n",
    "        self.name = name\n",
    "        self.age = age\n",
    "        self.gender = gender\n",
    "        self.role = role\n",
    "\n",
    "    def show_information(self):\n",
    "        print(f\"Name: {self.name}\")\n",
    "        print(f\"Age: {self.age}\")\n",
    "        print(f\"Gender: {self.gender}\")\n",
    "        print(f\"Rol: {self.role}\")\n",
    "\n",
    "    def __str__(self):\n",
    "        return f\"Dit is een leesbare representatie van een instantie ({self.name}) van Employee\""
   ]
  },
  {
   "cell_type": "code",
   "execution_count": null,
   "metadata": {},
   "outputs": [],
   "source": [
    "medewerker = Employee(name=\"Gijs Dekkers\",\n",
    "                      age=28,\n",
    "                      gender=\"Male\",\n",
    "                      role=\"Data Engineer\")\n",
    "\n",
    "medewerker.show_information()\n",
    "\n",
    "print(medewerker)"
   ]
  }
 ],
 "metadata": {
  "kernelspec": {
   "display_name": "base",
   "language": "python",
   "name": "python3"
  },
  "language_info": {
   "codemirror_mode": {
    "name": "ipython",
    "version": 3
   },
   "file_extension": ".py",
   "mimetype": "text/x-python",
   "name": "python",
   "nbconvert_exporter": "python",
   "pygments_lexer": "ipython3",
   "version": "3.11.7"
  }
 },
 "nbformat": 4,
 "nbformat_minor": 2
}
